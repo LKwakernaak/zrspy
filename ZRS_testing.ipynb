{
 "cells": [
  {
   "cell_type": "markdown",
   "metadata": {},
   "source": [
    "# Let's try basic requests"
   ]
  },
  {
   "cell_type": "code",
   "execution_count": 17,
   "metadata": {},
   "outputs": [],
   "source": [
    "from bs4 import BeautifulSoup\n",
    "from requests import get"
   ]
  },
  {
   "cell_type": "code",
   "execution_count": 29,
   "metadata": {},
   "outputs": [],
   "source": [
    "base_url = \"http://zrs.leidenuniv.nl/\"\n",
    "query_url = \"http://zrs.leidenuniv.nl/ul/query.php\"\n",
    "\n",
    "payload = {\n",
    "    \"day\":\"9\",\n",
    "    \"month\":\"9\",\n",
    "    \"year\":\"2018\",\n",
    "    \"submit\":\"Uitvoeren\",\n",
    "    \"res_instantie\":\"_ALL_\",\n",
    "    \"selgebouw\":\"_ALL_\",\n",
    "    \"zrssort\":\"aanvangstijd\",\n",
    "    \"gebruiker\":\"\",\n",
    "    \"aanvrager\":\"\",\n",
    "    \"activitiet\":\"\"\n",
    "}\n",
    "\n",
    "response = get(query_url, payload)"
   ]
  },
  {
   "cell_type": "code",
   "execution_count": 30,
   "metadata": {},
   "outputs": [
    {
     "data": {
      "text/plain": [
       "<html><body><p>Start applicatie op de juiste manier!</p></body></html>"
      ]
     },
     "execution_count": 30,
     "metadata": {},
     "output_type": "execute_result"
    }
   ],
   "source": [
    "BeautifulSoup(response.text, 'lxml')"
   ]
  },
  {
   "cell_type": "markdown",
   "metadata": {},
   "source": [
    "# Not working\n",
    "### Lets try Selenium"
   ]
  },
  {
   "cell_type": "code",
   "execution_count": 52,
   "metadata": {},
   "outputs": [],
   "source": [
    "from selenium import webdriver"
   ]
  },
  {
   "cell_type": "code",
   "execution_count": 112,
   "metadata": {},
   "outputs": [],
   "source": [
    "driver = webdriver.Chrome()\n",
    "driver.implicitly_wait(5)\n",
    "driver.get(base_url)"
   ]
  },
  {
   "cell_type": "code",
   "execution_count": 121,
   "metadata": {},
   "outputs": [
    {
     "name": "stdout",
     "output_type": "stream",
     "text": [
      "1\n",
      "2\n",
      "3\n",
      "4\n",
      "5\n",
      "6\n",
      "7\n",
      "8\n",
      "9\n",
      "10\n",
      "11\n",
      "12\n",
      "13\n",
      "14\n",
      "15\n",
      "16\n",
      "17\n",
      "18\n",
      "19\n",
      "20\n",
      "21\n",
      "22\n",
      "23\n",
      "24\n",
      "25\n",
      "26\n",
      "27\n",
      "28\n",
      "29\n",
      "30\n",
      "31\n"
     ]
    }
   ],
   "source": [
    "day = driver.find_element_by_name('day')\n",
    "for i in day.find_elements_by_tag_name('option'):\n",
    "    option = i.text\n",
    "    if option = str\n"
   ]
  },
  {
   "cell_type": "code",
   "execution_count": 113,
   "metadata": {},
   "outputs": [],
   "source": [
    "button = driver.find_element_by_name(\"submit\")\n",
    "button.click()\n",
    "soup = BeautifulSoup(driver.page_source, 'lxml')\n",
    "driver.back()"
   ]
  },
  {
   "cell_type": "code",
   "execution_count": 71,
   "metadata": {},
   "outputs": [
    {
     "name": "stdout",
     "output_type": "stream",
     "text": [
      "1\n"
     ]
    }
   ],
   "source": [
    "table = soup.find_all('table')[1]\n",
    "print(len(table))"
   ]
  },
  {
   "cell_type": "code",
   "execution_count": 72,
   "metadata": {},
   "outputs": [],
   "source": [
    "import pandas as pd"
   ]
  },
  {
   "cell_type": "code",
   "execution_count": 106,
   "metadata": {},
   "outputs": [
    {
     "data": {
      "text/html": [
       "<div>\n",
       "<style scoped>\n",
       "    .dataframe tbody tr th:only-of-type {\n",
       "        vertical-align: middle;\n",
       "    }\n",
       "\n",
       "    .dataframe tbody tr th {\n",
       "        vertical-align: top;\n",
       "    }\n",
       "\n",
       "    .dataframe thead th {\n",
       "        text-align: right;\n",
       "    }\n",
       "</style>\n",
       "<table border=\"1\" class=\"dataframe\">\n",
       "  <thead>\n",
       "    <tr style=\"text-align: right;\">\n",
       "      <th></th>\n",
       "      <th>Tijd</th>\n",
       "      <th>Locatie</th>\n",
       "      <th>Soort act.</th>\n",
       "      <th>Pers</th>\n",
       "      <th>Tbv.</th>\n",
       "      <th>Groep</th>\n",
       "      <th>Activiteit</th>\n",
       "      <th>Gebruiker</th>\n",
       "      <th>Aanvrager</th>\n",
       "      <th>Aanvr.pers</th>\n",
       "      <th>Aanvr.nr</th>\n",
       "    </tr>\n",
       "  </thead>\n",
       "  <tbody>\n",
       "    <tr>\n",
       "      <th>40</th>\n",
       "      <td>09:00 10:45</td>\n",
       "      <td>HUYGENS/211/214</td>\n",
       "      <td>colleges</td>\n",
       "      <td>100.0</td>\n",
       "      <td>fwn-mi</td>\n",
       "      <td>1</td>\n",
       "      <td>4082AN3NAH Analyse 3 NA - HC</td>\n",
       "      <td>Faver</td>\n",
       "      <td>Leids Instituut Onderzoek Natu</td>\n",
       "      <td>Bhoendie, C.S.</td>\n",
       "      <td>A664490</td>\n",
       "    </tr>\n",
       "    <tr>\n",
       "      <th>42</th>\n",
       "      <td>09:00 10:45</td>\n",
       "      <td>HUYGENS/SITTERZAAL</td>\n",
       "      <td>colleges</td>\n",
       "      <td>175.0</td>\n",
       "      <td>fwn-mi</td>\n",
       "      <td>1</td>\n",
       "      <td>4081AN1NAH Analyse 1NA - HC</td>\n",
       "      <td>Kooman</td>\n",
       "      <td>Leids Instituut Onderzoek Natu</td>\n",
       "      <td>Bhoendie, C.S.</td>\n",
       "      <td>A680668</td>\n",
       "    </tr>\n",
       "    <tr>\n",
       "      <th>152</th>\n",
       "      <td>09:00 11:45</td>\n",
       "      <td>HUYGENS/106-109</td>\n",
       "      <td>colleges</td>\n",
       "      <td>50.0</td>\n",
       "      <td>fwn-lion</td>\n",
       "      <td>1</td>\n",
       "      <td>4062ESOS6H Electr. Structure of Solids HC</td>\n",
       "      <td>Allan</td>\n",
       "      <td>Leids Instituut Onderzoek Natu</td>\n",
       "      <td>Bhoendie, C.S.</td>\n",
       "      <td>A663320</td>\n",
       "    </tr>\n",
       "    <tr>\n",
       "      <th>352</th>\n",
       "      <td>11:00 12:45</td>\n",
       "      <td>HUYGENS/211/214</td>\n",
       "      <td>werkgroep/</td>\n",
       "      <td>100.0</td>\n",
       "      <td>fwn-mi</td>\n",
       "      <td>1</td>\n",
       "      <td>4082LA2NAW Lineaire Algebra 2 NA - WC</td>\n",
       "      <td>Kooman</td>\n",
       "      <td>Leids Instituut Onderzoek Natu</td>\n",
       "      <td>Bhoendie, C.S.</td>\n",
       "      <td>A682419</td>\n",
       "    </tr>\n",
       "    <tr>\n",
       "      <th>354</th>\n",
       "      <td>11:00 12:45</td>\n",
       "      <td>SNELLIUS/174</td>\n",
       "      <td>werkgroep/</td>\n",
       "      <td>175.0</td>\n",
       "      <td>fwn-mi</td>\n",
       "      <td>1</td>\n",
       "      <td>4081LA1NAW Lineaire Algebra 1NA - WG</td>\n",
       "      <td>Streng</td>\n",
       "      <td>Leids Instituut Onderzoek Natu</td>\n",
       "      <td>Bhoendie, C.S.</td>\n",
       "      <td>A659021</td>\n",
       "    </tr>\n",
       "    <tr>\n",
       "      <th>362</th>\n",
       "      <td>11:00 12:45</td>\n",
       "      <td>SNELLIUS/312</td>\n",
       "      <td>werkgroep/</td>\n",
       "      <td>175.0</td>\n",
       "      <td>fwn-mi</td>\n",
       "      <td>1</td>\n",
       "      <td>4081LA1NAW Lineaire Algebra 1NA - WG</td>\n",
       "      <td>Streng</td>\n",
       "      <td>Leids Instituut Onderzoek Natu</td>\n",
       "      <td>Bhoendie, C.S.</td>\n",
       "      <td>A659021</td>\n",
       "    </tr>\n",
       "    <tr>\n",
       "      <th>372</th>\n",
       "      <td>11:00 12:45</td>\n",
       "      <td>SNELLIUS/B01</td>\n",
       "      <td>werkgroep/</td>\n",
       "      <td>175.0</td>\n",
       "      <td>fwn-mi</td>\n",
       "      <td>1</td>\n",
       "      <td>4081LA1NAW Lineaire Algebra 1NA - WG</td>\n",
       "      <td>Streng</td>\n",
       "      <td>Leids Instituut Onderzoek Natu</td>\n",
       "      <td>Bhoendie, C.S.</td>\n",
       "      <td>A659021</td>\n",
       "    </tr>\n",
       "    <tr>\n",
       "      <th>374</th>\n",
       "      <td>11:00 12:45</td>\n",
       "      <td>SNELLIUS/B02</td>\n",
       "      <td>werkgroep/</td>\n",
       "      <td>175.0</td>\n",
       "      <td>fwn-mi</td>\n",
       "      <td>1</td>\n",
       "      <td>4081LA1NAW Lineaire Algebra 1NA - WG</td>\n",
       "      <td>Streng</td>\n",
       "      <td>Leids Instituut Onderzoek Natu</td>\n",
       "      <td>Bhoendie, C.S.</td>\n",
       "      <td>A659021</td>\n",
       "    </tr>\n",
       "    <tr>\n",
       "      <th>950</th>\n",
       "      <td>14:30 16:15</td>\n",
       "      <td>HUYGENS/226</td>\n",
       "      <td>werkgroep/</td>\n",
       "      <td>50.0</td>\n",
       "      <td>fwn-lion</td>\n",
       "      <td>1</td>\n",
       "      <td>4062EXPPRW Experimental Projects - WG</td>\n",
       "      <td>Gast</td>\n",
       "      <td>Leids Instituut Onderzoek Natu</td>\n",
       "      <td>Bhoendie, C.S.</td>\n",
       "      <td>A685101</td>\n",
       "    </tr>\n",
       "    <tr>\n",
       "      <th>1118</th>\n",
       "      <td>15:30 17:15</td>\n",
       "      <td>GORL/01</td>\n",
       "      <td>bijeenkoms</td>\n",
       "      <td>200.0</td>\n",
       "      <td>fwn-mi</td>\n",
       "      <td>1</td>\n",
       "      <td>Vakoverstijgende vaardigheden en Wiskunde Vaar...</td>\n",
       "      <td>van Exter</td>\n",
       "      <td>Leids Instituut Onderzoek Natu</td>\n",
       "      <td>Bhoendie, C.S.</td>\n",
       "      <td>A659025</td>\n",
       "    </tr>\n",
       "    <tr>\n",
       "      <th>1190</th>\n",
       "      <td>16:30 17:15</td>\n",
       "      <td>HUYGENS/226</td>\n",
       "      <td>colleges</td>\n",
       "      <td>50.0</td>\n",
       "      <td>fwn-lion</td>\n",
       "      <td>1</td>\n",
       "      <td>4062ECONOH Econophysics - HC</td>\n",
       "      <td>Garlaschelli</td>\n",
       "      <td>Leids Instituut Onderzoek Natu</td>\n",
       "      <td>Bhoendie, C.S.</td>\n",
       "      <td>A663313</td>\n",
       "    </tr>\n",
       "  </tbody>\n",
       "</table>\n",
       "</div>"
      ],
      "text/plain": [
       "             Tijd             Locatie  Soort act.   Pers      Tbv. Groep  \\\n",
       "40    09:00 10:45     HUYGENS/211/214    colleges  100.0    fwn-mi     1   \n",
       "42    09:00 10:45  HUYGENS/SITTERZAAL    colleges  175.0    fwn-mi     1   \n",
       "152   09:00 11:45     HUYGENS/106-109    colleges   50.0  fwn-lion     1   \n",
       "352   11:00 12:45     HUYGENS/211/214  werkgroep/  100.0    fwn-mi     1   \n",
       "354   11:00 12:45        SNELLIUS/174  werkgroep/  175.0    fwn-mi     1   \n",
       "362   11:00 12:45        SNELLIUS/312  werkgroep/  175.0    fwn-mi     1   \n",
       "372   11:00 12:45        SNELLIUS/B01  werkgroep/  175.0    fwn-mi     1   \n",
       "374   11:00 12:45        SNELLIUS/B02  werkgroep/  175.0    fwn-mi     1   \n",
       "950   14:30 16:15         HUYGENS/226  werkgroep/   50.0  fwn-lion     1   \n",
       "1118  15:30 17:15             GORL/01  bijeenkoms  200.0    fwn-mi     1   \n",
       "1190  16:30 17:15         HUYGENS/226    colleges   50.0  fwn-lion     1   \n",
       "\n",
       "                                             Activiteit     Gebruiker  \\\n",
       "40                         4082AN3NAH Analyse 3 NA - HC         Faver   \n",
       "42                          4081AN1NAH Analyse 1NA - HC        Kooman   \n",
       "152           4062ESOS6H Electr. Structure of Solids HC         Allan   \n",
       "352               4082LA2NAW Lineaire Algebra 2 NA - WC        Kooman   \n",
       "354                4081LA1NAW Lineaire Algebra 1NA - WG        Streng   \n",
       "362                4081LA1NAW Lineaire Algebra 1NA - WG        Streng   \n",
       "372                4081LA1NAW Lineaire Algebra 1NA - WG        Streng   \n",
       "374                4081LA1NAW Lineaire Algebra 1NA - WG        Streng   \n",
       "950               4062EXPPRW Experimental Projects - WG          Gast   \n",
       "1118  Vakoverstijgende vaardigheden en Wiskunde Vaar...     van Exter   \n",
       "1190                       4062ECONOH Econophysics - HC  Garlaschelli   \n",
       "\n",
       "                           Aanvrager      Aanvr.pers Aanvr.nr  \n",
       "40    Leids Instituut Onderzoek Natu  Bhoendie, C.S.  A664490  \n",
       "42    Leids Instituut Onderzoek Natu  Bhoendie, C.S.  A680668  \n",
       "152   Leids Instituut Onderzoek Natu  Bhoendie, C.S.  A663320  \n",
       "352   Leids Instituut Onderzoek Natu  Bhoendie, C.S.  A682419  \n",
       "354   Leids Instituut Onderzoek Natu  Bhoendie, C.S.  A659021  \n",
       "362   Leids Instituut Onderzoek Natu  Bhoendie, C.S.  A659021  \n",
       "372   Leids Instituut Onderzoek Natu  Bhoendie, C.S.  A659021  \n",
       "374   Leids Instituut Onderzoek Natu  Bhoendie, C.S.  A659021  \n",
       "950   Leids Instituut Onderzoek Natu  Bhoendie, C.S.  A685101  \n",
       "1118  Leids Instituut Onderzoek Natu  Bhoendie, C.S.  A659025  \n",
       "1190  Leids Instituut Onderzoek Natu  Bhoendie, C.S.  A663313  "
      ]
     },
     "execution_count": 106,
     "metadata": {},
     "output_type": "execute_result"
    }
   ],
   "source": [
    "df = pd.read_html(str(table), header=0)[0]\n",
    "df.dropna(how='all', inplace=True)\n",
    "df[df['Aanvrager']=='Leids Instituut Onderzoek Natu']"
   ]
  },
  {
   "cell_type": "code",
   "execution_count": 108,
   "metadata": {},
   "outputs": [
    {
     "data": {
      "text/plain": [
       "{'arch',\n",
       " 'cdh',\n",
       " 'fgga-bsk',\n",
       " 'fgga-isga',\n",
       " 'fsw',\n",
       " 'fsw-cans',\n",
       " 'fsw-cwts',\n",
       " 'fsw-lo',\n",
       " 'fsw-peda',\n",
       " 'fsw-powe',\n",
       " 'fsw-psyc',\n",
       " 'fwn',\n",
       " 'fwn-cml',\n",
       " 'fwn-ibl',\n",
       " 'fwn-lacdr',\n",
       " 'fwn-liacs',\n",
       " 'fwn-lic',\n",
       " 'fwn-lion',\n",
       " 'fwn-mi',\n",
       " 'fwn-strw',\n",
       " 'gorl',\n",
       " 'hon',\n",
       " 'hum-afri',\n",
       " 'hum-ds',\n",
       " 'hum-fr',\n",
       " 'hum-gltc',\n",
       " 'hum-gs',\n",
       " 'hum-int',\n",
       " 'hum-ital',\n",
       " 'hum-jap',\n",
       " 'hum-kern',\n",
       " 'hum-kor',\n",
       " 'hum-media',\n",
       " 'hum-mo',\n",
       " 'hum-ocmw',\n",
       " 'hum-slav',\n",
       " 'hum-zca',\n",
       " 'huy',\n",
       " 'jur',\n",
       " 'jurbio',\n",
       " 'luc',\n",
       " 'oude_ub',\n",
       " 'sdkog',\n",
       " 'wis',\n",
       " 'wsd'}"
      ]
     },
     "execution_count": 108,
     "metadata": {},
     "output_type": "execute_result"
    }
   ],
   "source": [
    "set(df['Tbv.'])"
   ]
  },
  {
   "cell_type": "code",
   "execution_count": 109,
   "metadata": {},
   "outputs": [
    {
     "ename": "TypeError",
     "evalue": "to_sql() missing 2 required positional arguments: 'name' and 'con'",
     "output_type": "error",
     "traceback": [
      "\u001b[0;31m---------------------------------------------------------------------------\u001b[0m",
      "\u001b[0;31mTypeError\u001b[0m                                 Traceback (most recent call last)",
      "\u001b[0;32m<ipython-input-109-c99bc5a144a4>\u001b[0m in \u001b[0;36m<module>\u001b[0;34m()\u001b[0m\n\u001b[0;32m----> 1\u001b[0;31m \u001b[0mdf\u001b[0m\u001b[0;34m.\u001b[0m\u001b[0mto_sql\u001b[0m\u001b[0;34m(\u001b[0m\u001b[0;34m)\u001b[0m\u001b[0;34m\u001b[0m\u001b[0m\n\u001b[0m",
      "\u001b[0;31mTypeError\u001b[0m: to_sql() missing 2 required positional arguments: 'name' and 'con'"
     ]
    }
   ],
   "source": []
  },
  {
   "cell_type": "code",
   "execution_count": null,
   "metadata": {},
   "outputs": [],
   "source": []
  }
 ],
 "metadata": {
  "kernelspec": {
   "display_name": "Python 3",
   "language": "python",
   "name": "python3"
  },
  "language_info": {
   "codemirror_mode": {
    "name": "ipython",
    "version": 3
   },
   "file_extension": ".py",
   "mimetype": "text/x-python",
   "name": "python",
   "nbconvert_exporter": "python",
   "pygments_lexer": "ipython3",
   "version": "3.6.5"
  }
 },
 "nbformat": 4,
 "nbformat_minor": 2
}
